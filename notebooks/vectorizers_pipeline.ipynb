{
 "cells": [
  {
   "cell_type": "code",
   "execution_count": 1,
   "source": [
    "cd .."
   ],
   "outputs": [
    {
     "output_type": "stream",
     "name": "stdout",
     "text": [
      "/Users/a19370200/projects/tfidf_based_vectorizers\n"
     ]
    }
   ],
   "metadata": {}
  },
  {
   "cell_type": "code",
   "execution_count": 2,
   "source": [
    "!pwd"
   ],
   "outputs": [
    {
     "output_type": "stream",
     "name": "stdout",
     "text": [
      "/Users/a19370200/projects/tfidf_based_vectorizers\n"
     ]
    }
   ],
   "metadata": {}
  },
  {
   "cell_type": "code",
   "execution_count": 3,
   "source": [
    "import numpy as np\n",
    "import nltk\n",
    "import pandas as pd\n",
    "import matplotlib.pyplot as plt\n",
    "import sklearn\n",
    "import re\n",
    "\n",
    "from nltk.stem.wordnet import WordNetLemmatizer\n",
    "from nltk.stem.porter import PorterStemmer\n",
    "from sklearn.model_selection import train_test_split\n",
    "from sklearn.linear_model import LogisticRegression\n",
    "from sklearn.metrics import classification_report, f1_score\n",
    "from spacy.lang.en import English\n",
    "from spacy.tokenizer import Tokenizer\n",
    "from string import punctuation\n",
    "from vectorizers import Vectorizer\n",
    "\n",
    "%matplotlib inline"
   ],
   "outputs": [],
   "metadata": {}
  },
  {
   "cell_type": "code",
   "execution_count": 4,
   "source": [
    "sklearn.__version__"
   ],
   "outputs": [
    {
     "output_type": "execute_result",
     "data": {
      "text/plain": [
       "'0.24.2'"
      ]
     },
     "metadata": {},
     "execution_count": 4
    }
   ],
   "metadata": {}
  },
  {
   "cell_type": "code",
   "execution_count": 5,
   "source": [
    "from sklearn.datasets import fetch_20newsgroups\n",
    "cats = ['alt.atheism', 'sci.space', 'rec.motorcycles']\n",
    "\n",
    "#ds_dict_train = fetch_20newsgroups(remove=('headers', 'footers', 'quotes'), categories=cats)\n",
    "ds_dict_train = fetch_20newsgroups(remove=('headers', 'footers', 'quotes'))\n",
    "\n",
    "X = ds_dict_train.get('data')\n",
    "y = ds_dict_train.get('target')\n",
    "classes_train = ds_dict_train.get('target_names')"
   ],
   "outputs": [],
   "metadata": {}
  },
  {
   "cell_type": "code",
   "execution_count": 6,
   "source": [
    "pd.Series(y).value_counts().sort_index().plot(kind='bar', rot=0, color='green');"
   ],
   "outputs": [
    {
     "output_type": "display_data",
     "data": {
      "text/plain": [
       "<Figure size 432x288 with 1 Axes>"
      ],
      "image/svg+xml": "<?xml version=\"1.0\" encoding=\"utf-8\" standalone=\"no\"?>\n<!DOCTYPE svg PUBLIC \"-//W3C//DTD SVG 1.1//EN\"\n  \"http://www.w3.org/Graphics/SVG/1.1/DTD/svg11.dtd\">\n<!-- Created with matplotlib (https://matplotlib.org/) -->\n<svg height=\"248.518125pt\" version=\"1.1\" viewBox=\"0 0 375.2875 248.518125\" width=\"375.2875pt\" xmlns=\"http://www.w3.org/2000/svg\" xmlns:xlink=\"http://www.w3.org/1999/xlink\">\n <metadata>\n  <rdf:RDF xmlns:cc=\"http://creativecommons.org/ns#\" xmlns:dc=\"http://purl.org/dc/elements/1.1/\" xmlns:rdf=\"http://www.w3.org/1999/02/22-rdf-syntax-ns#\">\n   <cc:Work>\n    <dc:type rdf:resource=\"http://purl.org/dc/dcmitype/StillImage\"/>\n    <dc:date>2022-02-10T16:48:56.123661</dc:date>\n    <dc:format>image/svg+xml</dc:format>\n    <dc:creator>\n     <cc:Agent>\n      <dc:title>Matplotlib v3.3.4, https://matplotlib.org/</dc:title>\n     </cc:Agent>\n    </dc:creator>\n   </cc:Work>\n  </rdf:RDF>\n </metadata>\n <defs>\n  <style type=\"text/css\">*{stroke-linecap:butt;stroke-linejoin:round;}</style>\n </defs>\n <g id=\"figure_1\">\n  <g id=\"patch_1\">\n   <path d=\"M 0 248.518125 \nL 375.2875 248.518125 \nL 375.2875 0 \nL 0 0 \nz\n\" style=\"fill:none;\"/>\n  </g>\n  <g id=\"axes_1\">\n   <g id=\"patch_2\">\n    <path d=\"M 33.2875 224.64 \nL 368.0875 224.64 \nL 368.0875 7.2 \nL 33.2875 7.2 \nz\n\" style=\"fill:#ffffff;\"/>\n   </g>\n   <g id=\"patch_3\">\n    <path clip-path=\"url(#p7f59de5de6)\" d=\"M 37.4725 224.64 \nL 45.8425 224.64 \nL 45.8425 58.971429 \nL 37.4725 58.971429 \nz\n\" style=\"fill:#008000;\"/>\n   </g>\n   <g id=\"patch_4\">\n    <path clip-path=\"url(#p7f59de5de6)\" d=\"M 54.2125 224.64 \nL 62.5825 224.64 \nL 62.5825 23.076571 \nL 54.2125 23.076571 \nz\n\" style=\"fill:#008000;\"/>\n   </g>\n   <g id=\"patch_5\">\n    <path clip-path=\"url(#p7f59de5de6)\" d=\"M 70.9525 224.64 \nL 79.3225 224.64 \nL 79.3225 20.660571 \nL 70.9525 20.660571 \nz\n\" style=\"fill:#008000;\"/>\n   </g>\n   <g id=\"patch_6\">\n    <path clip-path=\"url(#p7f59de5de6)\" d=\"M 87.6925 224.64 \nL 96.0625 224.64 \nL 96.0625 21.005714 \nL 87.6925 21.005714 \nz\n\" style=\"fill:#008000;\"/>\n   </g>\n   <g id=\"patch_7\">\n    <path clip-path=\"url(#p7f59de5de6)\" d=\"M 104.4325 224.64 \nL 112.8025 224.64 \nL 112.8025 25.147429 \nL 104.4325 25.147429 \nz\n\" style=\"fill:#008000;\"/>\n   </g>\n   <g id=\"patch_8\">\n    <path clip-path=\"url(#p7f59de5de6)\" d=\"M 121.1725 224.64 \nL 129.5425 224.64 \nL 129.5425 19.970286 \nL 121.1725 19.970286 \nz\n\" style=\"fill:#008000;\"/>\n   </g>\n   <g id=\"patch_9\">\n    <path clip-path=\"url(#p7f59de5de6)\" d=\"M 137.9125 224.64 \nL 146.2825 224.64 \nL 146.2825 22.731429 \nL 137.9125 22.731429 \nz\n\" style=\"fill:#008000;\"/>\n   </g>\n   <g id=\"patch_10\">\n    <path clip-path=\"url(#p7f59de5de6)\" d=\"M 154.6525 224.64 \nL 163.0225 224.64 \nL 163.0225 19.625143 \nL 154.6525 19.625143 \nz\n\" style=\"fill:#008000;\"/>\n   </g>\n   <g id=\"patch_11\">\n    <path clip-path=\"url(#p7f59de5de6)\" d=\"M 171.3925 224.64 \nL 179.7625 224.64 \nL 179.7625 18.244571 \nL 171.3925 18.244571 \nz\n\" style=\"fill:#008000;\"/>\n   </g>\n   <g id=\"patch_12\">\n    <path clip-path=\"url(#p7f59de5de6)\" d=\"M 188.1325 224.64 \nL 196.5025 224.64 \nL 196.5025 18.589714 \nL 188.1325 18.589714 \nz\n\" style=\"fill:#008000;\"/>\n   </g>\n   <g id=\"patch_13\">\n    <path clip-path=\"url(#p7f59de5de6)\" d=\"M 204.8725 224.64 \nL 213.2425 224.64 \nL 213.2425 17.554286 \nL 204.8725 17.554286 \nz\n\" style=\"fill:#008000;\"/>\n   </g>\n   <g id=\"patch_14\">\n    <path clip-path=\"url(#p7f59de5de6)\" d=\"M 221.6125 224.64 \nL 229.9825 224.64 \nL 229.9825 19.28 \nL 221.6125 19.28 \nz\n\" style=\"fill:#008000;\"/>\n   </g>\n   <g id=\"patch_15\">\n    <path clip-path=\"url(#p7f59de5de6)\" d=\"M 238.3525 224.64 \nL 246.7225 224.64 \nL 246.7225 20.660571 \nL 238.3525 20.660571 \nz\n\" style=\"fill:#008000;\"/>\n   </g>\n   <g id=\"patch_16\">\n    <path clip-path=\"url(#p7f59de5de6)\" d=\"M 255.0925 224.64 \nL 263.4625 224.64 \nL 263.4625 19.625143 \nL 255.0925 19.625143 \nz\n\" style=\"fill:#008000;\"/>\n   </g>\n   <g id=\"patch_17\">\n    <path clip-path=\"url(#p7f59de5de6)\" d=\"M 271.8325 224.64 \nL 280.2025 224.64 \nL 280.2025 19.970286 \nL 271.8325 19.970286 \nz\n\" style=\"fill:#008000;\"/>\n   </g>\n   <g id=\"patch_18\">\n    <path clip-path=\"url(#p7f59de5de6)\" d=\"M 288.5725 224.64 \nL 296.9425 224.64 \nL 296.9425 17.899429 \nL 288.5725 17.899429 \nz\n\" style=\"fill:#008000;\"/>\n   </g>\n   <g id=\"patch_19\">\n    <path clip-path=\"url(#p7f59de5de6)\" d=\"M 305.3125 224.64 \nL 313.6825 224.64 \nL 313.6825 36.192 \nL 305.3125 36.192 \nz\n\" style=\"fill:#008000;\"/>\n   </g>\n   <g id=\"patch_20\">\n    <path clip-path=\"url(#p7f59de5de6)\" d=\"M 322.0525 224.64 \nL 330.4225 224.64 \nL 330.4225 29.979429 \nL 322.0525 29.979429 \nz\n\" style=\"fill:#008000;\"/>\n   </g>\n   <g id=\"patch_21\">\n    <path clip-path=\"url(#p7f59de5de6)\" d=\"M 338.7925 224.64 \nL 347.1625 224.64 \nL 347.1625 64.148571 \nL 338.7925 64.148571 \nz\n\" style=\"fill:#008000;\"/>\n   </g>\n   <g id=\"patch_22\">\n    <path clip-path=\"url(#p7f59de5de6)\" d=\"M 355.5325 224.64 \nL 363.9025 224.64 \nL 363.9025 94.521143 \nL 355.5325 94.521143 \nz\n\" style=\"fill:#008000;\"/>\n   </g>\n   <g id=\"matplotlib.axis_1\">\n    <g id=\"xtick_1\">\n     <g id=\"line2d_1\">\n      <defs>\n       <path d=\"M 0 0 \nL 0 3.5 \n\" id=\"m4391535003\" style=\"stroke:#000000;stroke-width:0.8;\"/>\n      </defs>\n      <g>\n       <use style=\"stroke:#000000;stroke-width:0.8;\" x=\"41.6575\" xlink:href=\"#m4391535003\" y=\"224.64\"/>\n      </g>\n     </g>\n     <g id=\"text_1\">\n      <!-- 0 -->\n      <g transform=\"translate(38.47625 239.238437)scale(0.1 -0.1)\">\n       <defs>\n        <path d=\"M 31.78125 66.40625 \nQ 24.171875 66.40625 20.328125 58.90625 \nQ 16.5 51.421875 16.5 36.375 \nQ 16.5 21.390625 20.328125 13.890625 \nQ 24.171875 6.390625 31.78125 6.390625 \nQ 39.453125 6.390625 43.28125 13.890625 \nQ 47.125 21.390625 47.125 36.375 \nQ 47.125 51.421875 43.28125 58.90625 \nQ 39.453125 66.40625 31.78125 66.40625 \nz\nM 31.78125 74.21875 \nQ 44.046875 74.21875 50.515625 64.515625 \nQ 56.984375 54.828125 56.984375 36.375 \nQ 56.984375 17.96875 50.515625 8.265625 \nQ 44.046875 -1.421875 31.78125 -1.421875 \nQ 19.53125 -1.421875 13.0625 8.265625 \nQ 6.59375 17.96875 6.59375 36.375 \nQ 6.59375 54.828125 13.0625 64.515625 \nQ 19.53125 74.21875 31.78125 74.21875 \nz\n\" id=\"DejaVuSans-48\"/>\n       </defs>\n       <use xlink:href=\"#DejaVuSans-48\"/>\n      </g>\n     </g>\n    </g>\n    <g id=\"xtick_2\">\n     <g id=\"line2d_2\">\n      <g>\n       <use style=\"stroke:#000000;stroke-width:0.8;\" x=\"58.3975\" xlink:href=\"#m4391535003\" y=\"224.64\"/>\n      </g>\n     </g>\n     <g id=\"text_2\">\n      <!-- 1 -->\n      <g transform=\"translate(55.21625 239.238437)scale(0.1 -0.1)\">\n       <defs>\n        <path d=\"M 12.40625 8.296875 \nL 28.515625 8.296875 \nL 28.515625 63.921875 \nL 10.984375 60.40625 \nL 10.984375 69.390625 \nL 28.421875 72.90625 \nL 38.28125 72.90625 \nL 38.28125 8.296875 \nL 54.390625 8.296875 \nL 54.390625 0 \nL 12.40625 0 \nz\n\" id=\"DejaVuSans-49\"/>\n       </defs>\n       <use xlink:href=\"#DejaVuSans-49\"/>\n      </g>\n     </g>\n    </g>\n    <g id=\"xtick_3\">\n     <g id=\"line2d_3\">\n      <g>\n       <use style=\"stroke:#000000;stroke-width:0.8;\" x=\"75.1375\" xlink:href=\"#m4391535003\" y=\"224.64\"/>\n      </g>\n     </g>\n     <g id=\"text_3\">\n      <!-- 2 -->\n      <g transform=\"translate(71.95625 239.238437)scale(0.1 -0.1)\">\n       <defs>\n        <path d=\"M 19.1875 8.296875 \nL 53.609375 8.296875 \nL 53.609375 0 \nL 7.328125 0 \nL 7.328125 8.296875 \nQ 12.9375 14.109375 22.625 23.890625 \nQ 32.328125 33.6875 34.8125 36.53125 \nQ 39.546875 41.84375 41.421875 45.53125 \nQ 43.3125 49.21875 43.3125 52.78125 \nQ 43.3125 58.59375 39.234375 62.25 \nQ 35.15625 65.921875 28.609375 65.921875 \nQ 23.96875 65.921875 18.8125 64.3125 \nQ 13.671875 62.703125 7.8125 59.421875 \nL 7.8125 69.390625 \nQ 13.765625 71.78125 18.9375 73 \nQ 24.125 74.21875 28.421875 74.21875 \nQ 39.75 74.21875 46.484375 68.546875 \nQ 53.21875 62.890625 53.21875 53.421875 \nQ 53.21875 48.921875 51.53125 44.890625 \nQ 49.859375 40.875 45.40625 35.40625 \nQ 44.1875 33.984375 37.640625 27.21875 \nQ 31.109375 20.453125 19.1875 8.296875 \nz\n\" id=\"DejaVuSans-50\"/>\n       </defs>\n       <use xlink:href=\"#DejaVuSans-50\"/>\n      </g>\n     </g>\n    </g>\n    <g id=\"xtick_4\">\n     <g id=\"line2d_4\">\n      <g>\n       <use style=\"stroke:#000000;stroke-width:0.8;\" x=\"91.8775\" xlink:href=\"#m4391535003\" y=\"224.64\"/>\n      </g>\n     </g>\n     <g id=\"text_4\">\n      <!-- 3 -->\n      <g transform=\"translate(88.69625 239.238437)scale(0.1 -0.1)\">\n       <defs>\n        <path d=\"M 40.578125 39.3125 \nQ 47.65625 37.796875 51.625 33 \nQ 55.609375 28.21875 55.609375 21.1875 \nQ 55.609375 10.40625 48.1875 4.484375 \nQ 40.765625 -1.421875 27.09375 -1.421875 \nQ 22.515625 -1.421875 17.65625 -0.515625 \nQ 12.796875 0.390625 7.625 2.203125 \nL 7.625 11.71875 \nQ 11.71875 9.328125 16.59375 8.109375 \nQ 21.484375 6.890625 26.8125 6.890625 \nQ 36.078125 6.890625 40.9375 10.546875 \nQ 45.796875 14.203125 45.796875 21.1875 \nQ 45.796875 27.640625 41.28125 31.265625 \nQ 36.765625 34.90625 28.71875 34.90625 \nL 20.21875 34.90625 \nL 20.21875 43.015625 \nL 29.109375 43.015625 \nQ 36.375 43.015625 40.234375 45.921875 \nQ 44.09375 48.828125 44.09375 54.296875 \nQ 44.09375 59.90625 40.109375 62.90625 \nQ 36.140625 65.921875 28.71875 65.921875 \nQ 24.65625 65.921875 20.015625 65.03125 \nQ 15.375 64.15625 9.8125 62.3125 \nL 9.8125 71.09375 \nQ 15.4375 72.65625 20.34375 73.4375 \nQ 25.25 74.21875 29.59375 74.21875 \nQ 40.828125 74.21875 47.359375 69.109375 \nQ 53.90625 64.015625 53.90625 55.328125 \nQ 53.90625 49.265625 50.4375 45.09375 \nQ 46.96875 40.921875 40.578125 39.3125 \nz\n\" id=\"DejaVuSans-51\"/>\n       </defs>\n       <use xlink:href=\"#DejaVuSans-51\"/>\n      </g>\n     </g>\n    </g>\n    <g id=\"xtick_5\">\n     <g id=\"line2d_5\">\n      <g>\n       <use style=\"stroke:#000000;stroke-width:0.8;\" x=\"108.6175\" xlink:href=\"#m4391535003\" y=\"224.64\"/>\n      </g>\n     </g>\n     <g id=\"text_5\">\n      <!-- 4 -->\n      <g transform=\"translate(105.43625 239.238437)scale(0.1 -0.1)\">\n       <defs>\n        <path d=\"M 37.796875 64.3125 \nL 12.890625 25.390625 \nL 37.796875 25.390625 \nz\nM 35.203125 72.90625 \nL 47.609375 72.90625 \nL 47.609375 25.390625 \nL 58.015625 25.390625 \nL 58.015625 17.1875 \nL 47.609375 17.1875 \nL 47.609375 0 \nL 37.796875 0 \nL 37.796875 17.1875 \nL 4.890625 17.1875 \nL 4.890625 26.703125 \nz\n\" id=\"DejaVuSans-52\"/>\n       </defs>\n       <use xlink:href=\"#DejaVuSans-52\"/>\n      </g>\n     </g>\n    </g>\n    <g id=\"xtick_6\">\n     <g id=\"line2d_6\">\n      <g>\n       <use style=\"stroke:#000000;stroke-width:0.8;\" x=\"125.3575\" xlink:href=\"#m4391535003\" y=\"224.64\"/>\n      </g>\n     </g>\n     <g id=\"text_6\">\n      <!-- 5 -->\n      <g transform=\"translate(122.17625 239.238437)scale(0.1 -0.1)\">\n       <defs>\n        <path d=\"M 10.796875 72.90625 \nL 49.515625 72.90625 \nL 49.515625 64.59375 \nL 19.828125 64.59375 \nL 19.828125 46.734375 \nQ 21.96875 47.46875 24.109375 47.828125 \nQ 26.265625 48.1875 28.421875 48.1875 \nQ 40.625 48.1875 47.75 41.5 \nQ 54.890625 34.8125 54.890625 23.390625 \nQ 54.890625 11.625 47.5625 5.09375 \nQ 40.234375 -1.421875 26.90625 -1.421875 \nQ 22.3125 -1.421875 17.546875 -0.640625 \nQ 12.796875 0.140625 7.71875 1.703125 \nL 7.71875 11.625 \nQ 12.109375 9.234375 16.796875 8.0625 \nQ 21.484375 6.890625 26.703125 6.890625 \nQ 35.15625 6.890625 40.078125 11.328125 \nQ 45.015625 15.765625 45.015625 23.390625 \nQ 45.015625 31 40.078125 35.4375 \nQ 35.15625 39.890625 26.703125 39.890625 \nQ 22.75 39.890625 18.8125 39.015625 \nQ 14.890625 38.140625 10.796875 36.28125 \nz\n\" id=\"DejaVuSans-53\"/>\n       </defs>\n       <use xlink:href=\"#DejaVuSans-53\"/>\n      </g>\n     </g>\n    </g>\n    <g id=\"xtick_7\">\n     <g id=\"line2d_7\">\n      <g>\n       <use style=\"stroke:#000000;stroke-width:0.8;\" x=\"142.0975\" xlink:href=\"#m4391535003\" y=\"224.64\"/>\n      </g>\n     </g>\n     <g id=\"text_7\">\n      <!-- 6 -->\n      <g transform=\"translate(138.91625 239.238437)scale(0.1 -0.1)\">\n       <defs>\n        <path d=\"M 33.015625 40.375 \nQ 26.375 40.375 22.484375 35.828125 \nQ 18.609375 31.296875 18.609375 23.390625 \nQ 18.609375 15.53125 22.484375 10.953125 \nQ 26.375 6.390625 33.015625 6.390625 \nQ 39.65625 6.390625 43.53125 10.953125 \nQ 47.40625 15.53125 47.40625 23.390625 \nQ 47.40625 31.296875 43.53125 35.828125 \nQ 39.65625 40.375 33.015625 40.375 \nz\nM 52.59375 71.296875 \nL 52.59375 62.3125 \nQ 48.875 64.0625 45.09375 64.984375 \nQ 41.3125 65.921875 37.59375 65.921875 \nQ 27.828125 65.921875 22.671875 59.328125 \nQ 17.53125 52.734375 16.796875 39.40625 \nQ 19.671875 43.65625 24.015625 45.921875 \nQ 28.375 48.1875 33.59375 48.1875 \nQ 44.578125 48.1875 50.953125 41.515625 \nQ 57.328125 34.859375 57.328125 23.390625 \nQ 57.328125 12.15625 50.6875 5.359375 \nQ 44.046875 -1.421875 33.015625 -1.421875 \nQ 20.359375 -1.421875 13.671875 8.265625 \nQ 6.984375 17.96875 6.984375 36.375 \nQ 6.984375 53.65625 15.1875 63.9375 \nQ 23.390625 74.21875 37.203125 74.21875 \nQ 40.921875 74.21875 44.703125 73.484375 \nQ 48.484375 72.75 52.59375 71.296875 \nz\n\" id=\"DejaVuSans-54\"/>\n       </defs>\n       <use xlink:href=\"#DejaVuSans-54\"/>\n      </g>\n     </g>\n    </g>\n    <g id=\"xtick_8\">\n     <g id=\"line2d_8\">\n      <g>\n       <use style=\"stroke:#000000;stroke-width:0.8;\" x=\"158.8375\" xlink:href=\"#m4391535003\" y=\"224.64\"/>\n      </g>\n     </g>\n     <g id=\"text_8\">\n      <!-- 7 -->\n      <g transform=\"translate(155.65625 239.238437)scale(0.1 -0.1)\">\n       <defs>\n        <path d=\"M 8.203125 72.90625 \nL 55.078125 72.90625 \nL 55.078125 68.703125 \nL 28.609375 0 \nL 18.3125 0 \nL 43.21875 64.59375 \nL 8.203125 64.59375 \nz\n\" id=\"DejaVuSans-55\"/>\n       </defs>\n       <use xlink:href=\"#DejaVuSans-55\"/>\n      </g>\n     </g>\n    </g>\n    <g id=\"xtick_9\">\n     <g id=\"line2d_9\">\n      <g>\n       <use style=\"stroke:#000000;stroke-width:0.8;\" x=\"175.5775\" xlink:href=\"#m4391535003\" y=\"224.64\"/>\n      </g>\n     </g>\n     <g id=\"text_9\">\n      <!-- 8 -->\n      <g transform=\"translate(172.39625 239.238437)scale(0.1 -0.1)\">\n       <defs>\n        <path d=\"M 31.78125 34.625 \nQ 24.75 34.625 20.71875 30.859375 \nQ 16.703125 27.09375 16.703125 20.515625 \nQ 16.703125 13.921875 20.71875 10.15625 \nQ 24.75 6.390625 31.78125 6.390625 \nQ 38.8125 6.390625 42.859375 10.171875 \nQ 46.921875 13.96875 46.921875 20.515625 \nQ 46.921875 27.09375 42.890625 30.859375 \nQ 38.875 34.625 31.78125 34.625 \nz\nM 21.921875 38.8125 \nQ 15.578125 40.375 12.03125 44.71875 \nQ 8.5 49.078125 8.5 55.328125 \nQ 8.5 64.0625 14.71875 69.140625 \nQ 20.953125 74.21875 31.78125 74.21875 \nQ 42.671875 74.21875 48.875 69.140625 \nQ 55.078125 64.0625 55.078125 55.328125 \nQ 55.078125 49.078125 51.53125 44.71875 \nQ 48 40.375 41.703125 38.8125 \nQ 48.828125 37.15625 52.796875 32.3125 \nQ 56.78125 27.484375 56.78125 20.515625 \nQ 56.78125 9.90625 50.3125 4.234375 \nQ 43.84375 -1.421875 31.78125 -1.421875 \nQ 19.734375 -1.421875 13.25 4.234375 \nQ 6.78125 9.90625 6.78125 20.515625 \nQ 6.78125 27.484375 10.78125 32.3125 \nQ 14.796875 37.15625 21.921875 38.8125 \nz\nM 18.3125 54.390625 \nQ 18.3125 48.734375 21.84375 45.5625 \nQ 25.390625 42.390625 31.78125 42.390625 \nQ 38.140625 42.390625 41.71875 45.5625 \nQ 45.3125 48.734375 45.3125 54.390625 \nQ 45.3125 60.0625 41.71875 63.234375 \nQ 38.140625 66.40625 31.78125 66.40625 \nQ 25.390625 66.40625 21.84375 63.234375 \nQ 18.3125 60.0625 18.3125 54.390625 \nz\n\" id=\"DejaVuSans-56\"/>\n       </defs>\n       <use xlink:href=\"#DejaVuSans-56\"/>\n      </g>\n     </g>\n    </g>\n    <g id=\"xtick_10\">\n     <g id=\"line2d_10\">\n      <g>\n       <use style=\"stroke:#000000;stroke-width:0.8;\" x=\"192.3175\" xlink:href=\"#m4391535003\" y=\"224.64\"/>\n      </g>\n     </g>\n     <g id=\"text_10\">\n      <!-- 9 -->\n      <g transform=\"translate(189.13625 239.238437)scale(0.1 -0.1)\">\n       <defs>\n        <path d=\"M 10.984375 1.515625 \nL 10.984375 10.5 \nQ 14.703125 8.734375 18.5 7.8125 \nQ 22.3125 6.890625 25.984375 6.890625 \nQ 35.75 6.890625 40.890625 13.453125 \nQ 46.046875 20.015625 46.78125 33.40625 \nQ 43.953125 29.203125 39.59375 26.953125 \nQ 35.25 24.703125 29.984375 24.703125 \nQ 19.046875 24.703125 12.671875 31.3125 \nQ 6.296875 37.9375 6.296875 49.421875 \nQ 6.296875 60.640625 12.9375 67.421875 \nQ 19.578125 74.21875 30.609375 74.21875 \nQ 43.265625 74.21875 49.921875 64.515625 \nQ 56.59375 54.828125 56.59375 36.375 \nQ 56.59375 19.140625 48.40625 8.859375 \nQ 40.234375 -1.421875 26.421875 -1.421875 \nQ 22.703125 -1.421875 18.890625 -0.6875 \nQ 15.09375 0.046875 10.984375 1.515625 \nz\nM 30.609375 32.421875 \nQ 37.25 32.421875 41.125 36.953125 \nQ 45.015625 41.5 45.015625 49.421875 \nQ 45.015625 57.28125 41.125 61.84375 \nQ 37.25 66.40625 30.609375 66.40625 \nQ 23.96875 66.40625 20.09375 61.84375 \nQ 16.21875 57.28125 16.21875 49.421875 \nQ 16.21875 41.5 20.09375 36.953125 \nQ 23.96875 32.421875 30.609375 32.421875 \nz\n\" id=\"DejaVuSans-57\"/>\n       </defs>\n       <use xlink:href=\"#DejaVuSans-57\"/>\n      </g>\n     </g>\n    </g>\n    <g id=\"xtick_11\">\n     <g id=\"line2d_11\">\n      <g>\n       <use style=\"stroke:#000000;stroke-width:0.8;\" x=\"209.0575\" xlink:href=\"#m4391535003\" y=\"224.64\"/>\n      </g>\n     </g>\n     <g id=\"text_11\">\n      <!-- 10 -->\n      <g transform=\"translate(202.695 239.238437)scale(0.1 -0.1)\">\n       <use xlink:href=\"#DejaVuSans-49\"/>\n       <use x=\"63.623047\" xlink:href=\"#DejaVuSans-48\"/>\n      </g>\n     </g>\n    </g>\n    <g id=\"xtick_12\">\n     <g id=\"line2d_12\">\n      <g>\n       <use style=\"stroke:#000000;stroke-width:0.8;\" x=\"225.7975\" xlink:href=\"#m4391535003\" y=\"224.64\"/>\n      </g>\n     </g>\n     <g id=\"text_12\">\n      <!-- 11 -->\n      <g transform=\"translate(219.435 239.238437)scale(0.1 -0.1)\">\n       <use xlink:href=\"#DejaVuSans-49\"/>\n       <use x=\"63.623047\" xlink:href=\"#DejaVuSans-49\"/>\n      </g>\n     </g>\n    </g>\n    <g id=\"xtick_13\">\n     <g id=\"line2d_13\">\n      <g>\n       <use style=\"stroke:#000000;stroke-width:0.8;\" x=\"242.5375\" xlink:href=\"#m4391535003\" y=\"224.64\"/>\n      </g>\n     </g>\n     <g id=\"text_13\">\n      <!-- 12 -->\n      <g transform=\"translate(236.175 239.238437)scale(0.1 -0.1)\">\n       <use xlink:href=\"#DejaVuSans-49\"/>\n       <use x=\"63.623047\" xlink:href=\"#DejaVuSans-50\"/>\n      </g>\n     </g>\n    </g>\n    <g id=\"xtick_14\">\n     <g id=\"line2d_14\">\n      <g>\n       <use style=\"stroke:#000000;stroke-width:0.8;\" x=\"259.2775\" xlink:href=\"#m4391535003\" y=\"224.64\"/>\n      </g>\n     </g>\n     <g id=\"text_14\">\n      <!-- 13 -->\n      <g transform=\"translate(252.915 239.238437)scale(0.1 -0.1)\">\n       <use xlink:href=\"#DejaVuSans-49\"/>\n       <use x=\"63.623047\" xlink:href=\"#DejaVuSans-51\"/>\n      </g>\n     </g>\n    </g>\n    <g id=\"xtick_15\">\n     <g id=\"line2d_15\">\n      <g>\n       <use style=\"stroke:#000000;stroke-width:0.8;\" x=\"276.0175\" xlink:href=\"#m4391535003\" y=\"224.64\"/>\n      </g>\n     </g>\n     <g id=\"text_15\">\n      <!-- 14 -->\n      <g transform=\"translate(269.655 239.238437)scale(0.1 -0.1)\">\n       <use xlink:href=\"#DejaVuSans-49\"/>\n       <use x=\"63.623047\" xlink:href=\"#DejaVuSans-52\"/>\n      </g>\n     </g>\n    </g>\n    <g id=\"xtick_16\">\n     <g id=\"line2d_16\">\n      <g>\n       <use style=\"stroke:#000000;stroke-width:0.8;\" x=\"292.7575\" xlink:href=\"#m4391535003\" y=\"224.64\"/>\n      </g>\n     </g>\n     <g id=\"text_16\">\n      <!-- 15 -->\n      <g transform=\"translate(286.395 239.238437)scale(0.1 -0.1)\">\n       <use xlink:href=\"#DejaVuSans-49\"/>\n       <use x=\"63.623047\" xlink:href=\"#DejaVuSans-53\"/>\n      </g>\n     </g>\n    </g>\n    <g id=\"xtick_17\">\n     <g id=\"line2d_17\">\n      <g>\n       <use style=\"stroke:#000000;stroke-width:0.8;\" x=\"309.4975\" xlink:href=\"#m4391535003\" y=\"224.64\"/>\n      </g>\n     </g>\n     <g id=\"text_17\">\n      <!-- 16 -->\n      <g transform=\"translate(303.135 239.238437)scale(0.1 -0.1)\">\n       <use xlink:href=\"#DejaVuSans-49\"/>\n       <use x=\"63.623047\" xlink:href=\"#DejaVuSans-54\"/>\n      </g>\n     </g>\n    </g>\n    <g id=\"xtick_18\">\n     <g id=\"line2d_18\">\n      <g>\n       <use style=\"stroke:#000000;stroke-width:0.8;\" x=\"326.2375\" xlink:href=\"#m4391535003\" y=\"224.64\"/>\n      </g>\n     </g>\n     <g id=\"text_18\">\n      <!-- 17 -->\n      <g transform=\"translate(319.875 239.238437)scale(0.1 -0.1)\">\n       <use xlink:href=\"#DejaVuSans-49\"/>\n       <use x=\"63.623047\" xlink:href=\"#DejaVuSans-55\"/>\n      </g>\n     </g>\n    </g>\n    <g id=\"xtick_19\">\n     <g id=\"line2d_19\">\n      <g>\n       <use style=\"stroke:#000000;stroke-width:0.8;\" x=\"342.9775\" xlink:href=\"#m4391535003\" y=\"224.64\"/>\n      </g>\n     </g>\n     <g id=\"text_19\">\n      <!-- 18 -->\n      <g transform=\"translate(336.615 239.238437)scale(0.1 -0.1)\">\n       <use xlink:href=\"#DejaVuSans-49\"/>\n       <use x=\"63.623047\" xlink:href=\"#DejaVuSans-56\"/>\n      </g>\n     </g>\n    </g>\n    <g id=\"xtick_20\">\n     <g id=\"line2d_20\">\n      <g>\n       <use style=\"stroke:#000000;stroke-width:0.8;\" x=\"359.7175\" xlink:href=\"#m4391535003\" y=\"224.64\"/>\n      </g>\n     </g>\n     <g id=\"text_20\">\n      <!-- 19 -->\n      <g transform=\"translate(353.355 239.238437)scale(0.1 -0.1)\">\n       <use xlink:href=\"#DejaVuSans-49\"/>\n       <use x=\"63.623047\" xlink:href=\"#DejaVuSans-57\"/>\n      </g>\n     </g>\n    </g>\n   </g>\n   <g id=\"matplotlib.axis_2\">\n    <g id=\"ytick_1\">\n     <g id=\"line2d_21\">\n      <defs>\n       <path d=\"M 0 0 \nL -3.5 0 \n\" id=\"m3b029846fe\" style=\"stroke:#000000;stroke-width:0.8;\"/>\n      </defs>\n      <g>\n       <use style=\"stroke:#000000;stroke-width:0.8;\" x=\"33.2875\" xlink:href=\"#m3b029846fe\" y=\"224.64\"/>\n      </g>\n     </g>\n     <g id=\"text_21\">\n      <!-- 0 -->\n      <g transform=\"translate(19.925 228.439219)scale(0.1 -0.1)\">\n       <use xlink:href=\"#DejaVuSans-48\"/>\n      </g>\n     </g>\n    </g>\n    <g id=\"ytick_2\">\n     <g id=\"line2d_22\">\n      <g>\n       <use style=\"stroke:#000000;stroke-width:0.8;\" x=\"33.2875\" xlink:href=\"#m3b029846fe\" y=\"190.125714\"/>\n      </g>\n     </g>\n     <g id=\"text_22\">\n      <!-- 100 -->\n      <g transform=\"translate(7.2 193.924933)scale(0.1 -0.1)\">\n       <use xlink:href=\"#DejaVuSans-49\"/>\n       <use x=\"63.623047\" xlink:href=\"#DejaVuSans-48\"/>\n       <use x=\"127.246094\" xlink:href=\"#DejaVuSans-48\"/>\n      </g>\n     </g>\n    </g>\n    <g id=\"ytick_3\">\n     <g id=\"line2d_23\">\n      <g>\n       <use style=\"stroke:#000000;stroke-width:0.8;\" x=\"33.2875\" xlink:href=\"#m3b029846fe\" y=\"155.611429\"/>\n      </g>\n     </g>\n     <g id=\"text_23\">\n      <!-- 200 -->\n      <g transform=\"translate(7.2 159.410647)scale(0.1 -0.1)\">\n       <use xlink:href=\"#DejaVuSans-50\"/>\n       <use x=\"63.623047\" xlink:href=\"#DejaVuSans-48\"/>\n       <use x=\"127.246094\" xlink:href=\"#DejaVuSans-48\"/>\n      </g>\n     </g>\n    </g>\n    <g id=\"ytick_4\">\n     <g id=\"line2d_24\">\n      <g>\n       <use style=\"stroke:#000000;stroke-width:0.8;\" x=\"33.2875\" xlink:href=\"#m3b029846fe\" y=\"121.097143\"/>\n      </g>\n     </g>\n     <g id=\"text_24\">\n      <!-- 300 -->\n      <g transform=\"translate(7.2 124.896362)scale(0.1 -0.1)\">\n       <use xlink:href=\"#DejaVuSans-51\"/>\n       <use x=\"63.623047\" xlink:href=\"#DejaVuSans-48\"/>\n       <use x=\"127.246094\" xlink:href=\"#DejaVuSans-48\"/>\n      </g>\n     </g>\n    </g>\n    <g id=\"ytick_5\">\n     <g id=\"line2d_25\">\n      <g>\n       <use style=\"stroke:#000000;stroke-width:0.8;\" x=\"33.2875\" xlink:href=\"#m3b029846fe\" y=\"86.582857\"/>\n      </g>\n     </g>\n     <g id=\"text_25\">\n      <!-- 400 -->\n      <g transform=\"translate(7.2 90.382076)scale(0.1 -0.1)\">\n       <use xlink:href=\"#DejaVuSans-52\"/>\n       <use x=\"63.623047\" xlink:href=\"#DejaVuSans-48\"/>\n       <use x=\"127.246094\" xlink:href=\"#DejaVuSans-48\"/>\n      </g>\n     </g>\n    </g>\n    <g id=\"ytick_6\">\n     <g id=\"line2d_26\">\n      <g>\n       <use style=\"stroke:#000000;stroke-width:0.8;\" x=\"33.2875\" xlink:href=\"#m3b029846fe\" y=\"52.068571\"/>\n      </g>\n     </g>\n     <g id=\"text_26\">\n      <!-- 500 -->\n      <g transform=\"translate(7.2 55.86779)scale(0.1 -0.1)\">\n       <use xlink:href=\"#DejaVuSans-53\"/>\n       <use x=\"63.623047\" xlink:href=\"#DejaVuSans-48\"/>\n       <use x=\"127.246094\" xlink:href=\"#DejaVuSans-48\"/>\n      </g>\n     </g>\n    </g>\n    <g id=\"ytick_7\">\n     <g id=\"line2d_27\">\n      <g>\n       <use style=\"stroke:#000000;stroke-width:0.8;\" x=\"33.2875\" xlink:href=\"#m3b029846fe\" y=\"17.554286\"/>\n      </g>\n     </g>\n     <g id=\"text_27\">\n      <!-- 600 -->\n      <g transform=\"translate(7.2 21.353504)scale(0.1 -0.1)\">\n       <use xlink:href=\"#DejaVuSans-54\"/>\n       <use x=\"63.623047\" xlink:href=\"#DejaVuSans-48\"/>\n       <use x=\"127.246094\" xlink:href=\"#DejaVuSans-48\"/>\n      </g>\n     </g>\n    </g>\n   </g>\n   <g id=\"patch_23\">\n    <path d=\"M 33.2875 224.64 \nL 33.2875 7.2 \n\" style=\"fill:none;stroke:#000000;stroke-linecap:square;stroke-linejoin:miter;stroke-width:0.8;\"/>\n   </g>\n   <g id=\"patch_24\">\n    <path d=\"M 368.0875 224.64 \nL 368.0875 7.2 \n\" style=\"fill:none;stroke:#000000;stroke-linecap:square;stroke-linejoin:miter;stroke-width:0.8;\"/>\n   </g>\n   <g id=\"patch_25\">\n    <path d=\"M 33.2875 224.64 \nL 368.0875 224.64 \n\" style=\"fill:none;stroke:#000000;stroke-linecap:square;stroke-linejoin:miter;stroke-width:0.8;\"/>\n   </g>\n   <g id=\"patch_26\">\n    <path d=\"M 33.2875 7.2 \nL 368.0875 7.2 \n\" style=\"fill:none;stroke:#000000;stroke-linecap:square;stroke-linejoin:miter;stroke-width:0.8;\"/>\n   </g>\n  </g>\n </g>\n <defs>\n  <clipPath id=\"p7f59de5de6\">\n   <rect height=\"217.44\" width=\"334.8\" x=\"33.2875\" y=\"7.2\"/>\n  </clipPath>\n </defs>\n</svg>\n",
      "image/png": "[encoded data removed]"
     },
     "metadata": {
      "needs_background": "light"
     }
    }
   ],
   "metadata": {}
  },
  {
   "cell_type": "code",
   "execution_count": 7,
   "source": [
    "pd.Series(y).value_counts().sort_index()"
   ],
   "outputs": [
    {
     "output_type": "execute_result",
     "data": {
      "text/plain": [
       "0     480\n",
       "1     584\n",
       "2     591\n",
       "3     590\n",
       "4     578\n",
       "5     593\n",
       "6     585\n",
       "7     594\n",
       "8     598\n",
       "9     597\n",
       "10    600\n",
       "11    595\n",
       "12    591\n",
       "13    594\n",
       "14    593\n",
       "15    599\n",
       "16    546\n",
       "17    564\n",
       "18    465\n",
       "19    377\n",
       "dtype: int64"
      ]
     },
     "metadata": {},
     "execution_count": 7
    }
   ],
   "metadata": {}
  },
  {
   "cell_type": "code",
   "execution_count": 8,
   "source": [
    "len(X), len(y)"
   ],
   "outputs": [
    {
     "output_type": "execute_result",
     "data": {
      "text/plain": [
       "(11314, 11314)"
      ]
     },
     "metadata": {},
     "execution_count": 8
    }
   ],
   "metadata": {}
  },
  {
   "cell_type": "markdown",
   "source": [
    "## Stemming/Lemmatization"
   ],
   "metadata": {}
  },
  {
   "cell_type": "code",
   "execution_count": 9,
   "source": [
    "punctuation\n",
    "punct = '!\"#$%&\\'()*+,./:;<=>?@[\\\\]^_`{|}~'\n",
    "spec_symbols = ['\\n', '\\t']"
   ],
   "outputs": [],
   "metadata": {}
  },
  {
   "cell_type": "code",
   "execution_count": 10,
   "source": [
    "stemmer = PorterStemmer()\n",
    "lemma = WordNetLemmatizer()\n",
    "nlp = English()\n",
    "tokenizer = Tokenizer(nlp.vocab)\n",
    "\n",
    "def stem_text(sentence):\n",
    "    tokens = []\n",
    "    for token in tokenizer(sentence):\n",
    "        if (token.text not in punct) and (token.text not in spec_symbols):\n",
    "            tok = re.sub('[^a-zA-Z\\d-]','',token.text)\n",
    "            tokens.append(stemmer.stem(tok))\n",
    "    return ' '.join(tokens)\n",
    "\n",
    "def lemm_text(sentence):\n",
    "    tokens = []\n",
    "    for token in tokenizer(sentence):\n",
    "        if (token.text not in punct) and (token.text not in spec_symbols):\n",
    "            tok = re.sub('[^a-zA-Z\\d-]','',token.text)\n",
    "            tokens.append(lemma.lemmatize(tok))\n",
    "    return ' '.join(tokens)"
   ],
   "outputs": [],
   "metadata": {}
  },
  {
   "cell_type": "code",
   "execution_count": 11,
   "source": [
    "X_stem = [stem_text(sent) for sent in X]"
   ],
   "outputs": [],
   "metadata": {}
  },
  {
   "cell_type": "markdown",
   "source": [
    "## Train Test Split"
   ],
   "metadata": {}
  },
  {
   "cell_type": "code",
   "execution_count": 12,
   "source": [
    "X_train, X_test, y_train, y_test = train_test_split(X_stem, y, test_size=0.2, stratify=y, random_state=23)\n",
    "len(X_train), len(X_test), len(y_train), len(y_test) "
   ],
   "outputs": [
    {
     "output_type": "execute_result",
     "data": {
      "text/plain": [
       "(9051, 2263, 9051, 2263)"
      ]
     },
     "metadata": {},
     "execution_count": 12
    }
   ],
   "metadata": {}
  },
  {
   "cell_type": "markdown",
   "source": [
    "## TF-IDF"
   ],
   "metadata": {}
  },
  {
   "cell_type": "code",
   "execution_count": 13,
   "source": [
    "vectorizer = Vectorizer(weight_method='idf_icsdf')"
   ],
   "outputs": [],
   "metadata": {}
  },
  {
   "cell_type": "code",
   "execution_count": 14,
   "source": [
    "X_train_vectorized = vectorizer.fit_transform(raw_documents=X_train, y=y_train)\n",
    "X_train_vectorized.shape"
   ],
   "outputs": [
    {
     "output_type": "execute_result",
     "data": {
      "text/plain": [
       "(9051, 80792)"
      ]
     },
     "metadata": {},
     "execution_count": 14
    }
   ],
   "metadata": {}
  },
  {
   "cell_type": "code",
   "execution_count": 15,
   "source": [
    "if hasattr(vectorizer, 'icf_mean'):\n",
    "    print('icf_mean: ', vectorizer.icf_mean)\n",
    "\n",
    "if hasattr(vectorizer, 'icsdf_mean' ):\n",
    "    print('icsdf_mean: ', vectorizer.icsdf_mean) "
   ],
   "outputs": [
    {
     "output_type": "stream",
     "name": "stdout",
     "text": [
      "icsdf_mean:  6.938871641262738\n"
     ]
    }
   ],
   "metadata": {}
  },
  {
   "cell_type": "code",
   "execution_count": 15,
   "source": [
    "X_test_vectorized = vectorizer.transform(X_test)\n",
    "X_test_vectorized.shape"
   ],
   "outputs": [
    {
     "output_type": "execute_result",
     "data": {
      "text/plain": [
       "(2263, 80792)"
      ]
     },
     "metadata": {},
     "execution_count": 15
    }
   ],
   "metadata": {}
  },
  {
   "cell_type": "code",
   "execution_count": 16,
   "source": [
    "logreg_cv = LogisticRegression(\n",
    "    class_weight='balanced',\n",
    "    random_state=23\n",
    ")\n",
    "\n",
    "logreg_cv.fit(X_train_vectorized, y_train)"
   ],
   "outputs": [
    {
     "output_type": "stream",
     "name": "stderr",
     "text": [
      "/Users/a19370200/projects/tfidf_based_vectorizers/venv/lib/python3.6/site-packages/sklearn/linear_model/_logistic.py:765: ConvergenceWarning: lbfgs failed to converge (status=1):\n",
      "STOP: TOTAL NO. of ITERATIONS REACHED LIMIT.\n",
      "\n",
      "Increase the number of iterations (max_iter) or scale the data as shown in:\n",
      "    https://scikit-learn.org/stable/modules/preprocessing.html\n",
      "Please also refer to the documentation for alternative solver options:\n",
      "    https://scikit-learn.org/stable/modules/linear_model.html#logistic-regression\n",
      "  extra_warning_msg=_LOGISTIC_SOLVER_CONVERGENCE_MSG)\n"
     ]
    },
    {
     "output_type": "execute_result",
     "data": {
      "text/plain": [
       "LogisticRegression(class_weight='balanced', random_state=23)"
      ]
     },
     "metadata": {},
     "execution_count": 16
    }
   ],
   "metadata": {}
  },
  {
   "cell_type": "code",
   "execution_count": 17,
   "source": [
    "y_pred = logreg_cv.predict(X_test_vectorized)\n",
    "print(classification_report(y_test, y_pred))"
   ],
   "outputs": [
    {
     "output_type": "stream",
     "name": "stdout",
     "text": [
      "              precision    recall  f1-score   support\n",
      "\n",
      "           0       0.43      0.47      0.45        96\n",
      "           1       0.58      0.53      0.55       117\n",
      "           2       0.58      0.59      0.59       118\n",
      "           3       0.59      0.63      0.61       118\n",
      "           4       0.77      0.60      0.67       115\n",
      "           5       0.80      0.62      0.70       119\n",
      "           6       0.65      0.67      0.66       117\n",
      "           7       0.66      0.56      0.61       119\n",
      "           8       0.77      0.61      0.68       120\n",
      "           9       0.49      0.81      0.61       119\n",
      "          10       0.87      0.73      0.80       120\n",
      "          11       0.88      0.71      0.78       119\n",
      "          12       0.43      0.53      0.47       118\n",
      "          13       0.65      0.71      0.68       119\n",
      "          14       0.79      0.69      0.74       119\n",
      "          15       0.59      0.65      0.62       120\n",
      "          16       0.74      0.64      0.69       109\n",
      "          17       0.83      0.65      0.73       113\n",
      "          18       0.42      0.67      0.51        93\n",
      "          19       0.26      0.24      0.25        75\n",
      "\n",
      "    accuracy                           0.62      2263\n",
      "   macro avg       0.64      0.61      0.62      2263\n",
      "weighted avg       0.65      0.62      0.63      2263\n",
      "\n"
     ]
    }
   ],
   "metadata": {}
  },
  {
   "cell_type": "code",
   "execution_count": null,
   "source": [],
   "outputs": [],
   "metadata": {}
  },
  {
   "cell_type": "markdown",
   "source": [
    "## Cycled version"
   ],
   "metadata": {}
  },
  {
   "cell_type": "code",
   "execution_count": 21,
   "source": [
    "def eval(model, X_train, X_test, y_train, y_test):\n",
    "    model.fit(X_train, y_train)\n",
    "    y_pred = model.predict(X_test)\n",
    "    return y_pred "
   ],
   "outputs": [],
   "metadata": {}
  },
  {
   "cell_type": "code",
   "execution_count": 22,
   "source": [
    "weight_methods = [\n",
    "    'idf', \n",
    "    'dfs', \n",
    "    'chi2', \n",
    "    'ig', \n",
    "    'igm',\n",
    "    'pb', \n",
    "    'idf_icf', \n",
    "    'rf', \n",
    "    'idf_icsdf', \n",
    "    'iadf', \n",
    "    'iadf_norm' \n",
    "]\n",
    "\n",
    "tf_func = [\n",
    "    'tf',  \n",
    "    'log_tf', \n",
    "    'sqrt_tf'\n",
    "]"
   ],
   "outputs": [],
   "metadata": {}
  },
  {
   "cell_type": "code",
   "execution_count": 23,
   "source": [
    "scores_weighted = np.zeros((len(tf_func), len(weight_methods)), dtype=np.float64)\n",
    "scores_micro = np.zeros((len(tf_func), len(weight_methods)), dtype=np.float64)\n",
    "scores_macro = np.zeros((len(tf_func), len(weight_methods)), dtype=np.float64)"
   ],
   "outputs": [],
   "metadata": {}
  },
  {
   "cell_type": "code",
   "execution_count": 24,
   "source": [
    "for i, tf_name in enumerate(tf_func):\n",
    "    for j, w_name in enumerate(weight_methods):\n",
    "        vectorizer = Vectorizer(\n",
    "            weight_method=w_name, \n",
    "            tf_func=tf_name,\n",
    "            analyzer=\"word\"\n",
    "        )\n",
    "\n",
    "        X_train_vectorized = vectorizer.fit_transform(raw_documents=X_train, y=y_train)\n",
    "        X_test_vectorized = vectorizer.transform(X_test)\n",
    "\n",
    "        clf = LogisticRegression(class_weight='balanced')\n",
    "        y_pred = eval(clf, X_train_vectorized, X_test_vectorized, y_train, y_test)\n",
    "        scores_weighted[i,j] = f1_score(y_test, y_pred, average=\"weighted\")\n",
    "        scores_micro[i,j] = f1_score(y_test, y_pred, average=\"micro\")\n",
    "        scores_macro[i,j] = f1_score(y_test, y_pred, average=\"macro\")"
   ],
   "outputs": [
    {
     "output_type": "stream",
     "name": "stderr",
     "text": [
      "/Users/a19370200/projects/tfidf_based_vectorizers/venv/lib/python3.6/site-packages/sklearn/linear_model/_logistic.py:765: ConvergenceWarning: lbfgs failed to converge (status=1):\n",
      "STOP: TOTAL NO. of ITERATIONS REACHED LIMIT.\n",
      "\n",
      "Increase the number of iterations (max_iter) or scale the data as shown in:\n",
      "    https://scikit-learn.org/stable/modules/preprocessing.html\n",
      "Please also refer to the documentation for alternative solver options:\n",
      "    https://scikit-learn.org/stable/modules/linear_model.html#logistic-regression\n",
      "  extra_warning_msg=_LOGISTIC_SOLVER_CONVERGENCE_MSG)\n",
      "/Users/a19370200/projects/tfidf_based_vectorizers/venv/lib/python3.6/site-packages/sklearn/linear_model/_logistic.py:765: ConvergenceWarning: lbfgs failed to converge (status=1):\n",
      "STOP: TOTAL NO. of ITERATIONS REACHED LIMIT.\n",
      "\n",
      "Increase the number of iterations (max_iter) or scale the data as shown in:\n",
      "    https://scikit-learn.org/stable/modules/preprocessing.html\n",
      "Please also refer to the documentation for alternative solver options:\n",
      "    https://scikit-learn.org/stable/modules/linear_model.html#logistic-regression\n",
      "  extra_warning_msg=_LOGISTIC_SOLVER_CONVERGENCE_MSG)\n",
      "/Users/a19370200/projects/tfidf_based_vectorizers/venv/lib/python3.6/site-packages/sklearn/linear_model/_logistic.py:765: ConvergenceWarning: lbfgs failed to converge (status=1):\n",
      "STOP: TOTAL NO. of ITERATIONS REACHED LIMIT.\n",
      "\n",
      "Increase the number of iterations (max_iter) or scale the data as shown in:\n",
      "    https://scikit-learn.org/stable/modules/preprocessing.html\n",
      "Please also refer to the documentation for alternative solver options:\n",
      "    https://scikit-learn.org/stable/modules/linear_model.html#logistic-regression\n",
      "  extra_warning_msg=_LOGISTIC_SOLVER_CONVERGENCE_MSG)\n",
      "/Users/a19370200/projects/tfidf_based_vectorizers/venv/lib/python3.6/site-packages/sklearn/linear_model/_logistic.py:765: ConvergenceWarning: lbfgs failed to converge (status=1):\n",
      "STOP: TOTAL NO. of ITERATIONS REACHED LIMIT.\n",
      "\n",
      "Increase the number of iterations (max_iter) or scale the data as shown in:\n",
      "    https://scikit-learn.org/stable/modules/preprocessing.html\n",
      "Please also refer to the documentation for alternative solver options:\n",
      "    https://scikit-learn.org/stable/modules/linear_model.html#logistic-regression\n",
      "  extra_warning_msg=_LOGISTIC_SOLVER_CONVERGENCE_MSG)\n",
      "/Users/a19370200/projects/tfidf_based_vectorizers/venv/lib/python3.6/site-packages/sklearn/linear_model/_logistic.py:765: ConvergenceWarning: lbfgs failed to converge (status=1):\n",
      "STOP: TOTAL NO. of ITERATIONS REACHED LIMIT.\n",
      "\n",
      "Increase the number of iterations (max_iter) or scale the data as shown in:\n",
      "    https://scikit-learn.org/stable/modules/preprocessing.html\n",
      "Please also refer to the documentation for alternative solver options:\n",
      "    https://scikit-learn.org/stable/modules/linear_model.html#logistic-regression\n",
      "  extra_warning_msg=_LOGISTIC_SOLVER_CONVERGENCE_MSG)\n",
      "/Users/a19370200/projects/tfidf_based_vectorizers/venv/lib/python3.6/site-packages/sklearn/linear_model/_logistic.py:765: ConvergenceWarning: lbfgs failed to converge (status=1):\n",
      "STOP: TOTAL NO. of ITERATIONS REACHED LIMIT.\n",
      "\n",
      "Increase the number of iterations (max_iter) or scale the data as shown in:\n",
      "    https://scikit-learn.org/stable/modules/preprocessing.html\n",
      "Please also refer to the documentation for alternative solver options:\n",
      "    https://scikit-learn.org/stable/modules/linear_model.html#logistic-regression\n",
      "  extra_warning_msg=_LOGISTIC_SOLVER_CONVERGENCE_MSG)\n",
      "/Users/a19370200/projects/tfidf_based_vectorizers/venv/lib/python3.6/site-packages/sklearn/linear_model/_logistic.py:765: ConvergenceWarning: lbfgs failed to converge (status=1):\n",
      "STOP: TOTAL NO. of ITERATIONS REACHED LIMIT.\n",
      "\n",
      "Increase the number of iterations (max_iter) or scale the data as shown in:\n",
      "    https://scikit-learn.org/stable/modules/preprocessing.html\n",
      "Please also refer to the documentation for alternative solver options:\n",
      "    https://scikit-learn.org/stable/modules/linear_model.html#logistic-regression\n",
      "  extra_warning_msg=_LOGISTIC_SOLVER_CONVERGENCE_MSG)\n",
      "/Users/a19370200/projects/tfidf_based_vectorizers/venv/lib/python3.6/site-packages/sklearn/linear_model/_logistic.py:765: ConvergenceWarning: lbfgs failed to converge (status=1):\n",
      "STOP: TOTAL NO. of ITERATIONS REACHED LIMIT.\n",
      "\n",
      "Increase the number of iterations (max_iter) or scale the data as shown in:\n",
      "    https://scikit-learn.org/stable/modules/preprocessing.html\n",
      "Please also refer to the documentation for alternative solver options:\n",
      "    https://scikit-learn.org/stable/modules/linear_model.html#logistic-regression\n",
      "  extra_warning_msg=_LOGISTIC_SOLVER_CONVERGENCE_MSG)\n",
      "/Users/a19370200/projects/tfidf_based_vectorizers/venv/lib/python3.6/site-packages/sklearn/linear_model/_logistic.py:765: ConvergenceWarning: lbfgs failed to converge (status=1):\n",
      "STOP: TOTAL NO. of ITERATIONS REACHED LIMIT.\n",
      "\n",
      "Increase the number of iterations (max_iter) or scale the data as shown in:\n",
      "    https://scikit-learn.org/stable/modules/preprocessing.html\n",
      "Please also refer to the documentation for alternative solver options:\n",
      "    https://scikit-learn.org/stable/modules/linear_model.html#logistic-regression\n",
      "  extra_warning_msg=_LOGISTIC_SOLVER_CONVERGENCE_MSG)\n",
      "/Users/a19370200/projects/tfidf_based_vectorizers/venv/lib/python3.6/site-packages/sklearn/linear_model/_logistic.py:765: ConvergenceWarning: lbfgs failed to converge (status=1):\n",
      "STOP: TOTAL NO. of ITERATIONS REACHED LIMIT.\n",
      "\n",
      "Increase the number of iterations (max_iter) or scale the data as shown in:\n",
      "    https://scikit-learn.org/stable/modules/preprocessing.html\n",
      "Please also refer to the documentation for alternative solver options:\n",
      "    https://scikit-learn.org/stable/modules/linear_model.html#logistic-regression\n",
      "  extra_warning_msg=_LOGISTIC_SOLVER_CONVERGENCE_MSG)\n",
      "/Users/a19370200/projects/tfidf_based_vectorizers/venv/lib/python3.6/site-packages/sklearn/linear_model/_logistic.py:765: ConvergenceWarning: lbfgs failed to converge (status=1):\n",
      "STOP: TOTAL NO. of ITERATIONS REACHED LIMIT.\n",
      "\n",
      "Increase the number of iterations (max_iter) or scale the data as shown in:\n",
      "    https://scikit-learn.org/stable/modules/preprocessing.html\n",
      "Please also refer to the documentation for alternative solver options:\n",
      "    https://scikit-learn.org/stable/modules/linear_model.html#logistic-regression\n",
      "  extra_warning_msg=_LOGISTIC_SOLVER_CONVERGENCE_MSG)\n",
      "/Users/a19370200/projects/tfidf_based_vectorizers/venv/lib/python3.6/site-packages/sklearn/linear_model/_logistic.py:765: ConvergenceWarning: lbfgs failed to converge (status=1):\n",
      "STOP: TOTAL NO. of ITERATIONS REACHED LIMIT.\n",
      "\n",
      "Increase the number of iterations (max_iter) or scale the data as shown in:\n",
      "    https://scikit-learn.org/stable/modules/preprocessing.html\n",
      "Please also refer to the documentation for alternative solver options:\n",
      "    https://scikit-learn.org/stable/modules/linear_model.html#logistic-regression\n",
      "  extra_warning_msg=_LOGISTIC_SOLVER_CONVERGENCE_MSG)\n",
      "/Users/a19370200/projects/tfidf_based_vectorizers/venv/lib/python3.6/site-packages/sklearn/linear_model/_logistic.py:765: ConvergenceWarning: lbfgs failed to converge (status=1):\n",
      "STOP: TOTAL NO. of ITERATIONS REACHED LIMIT.\n",
      "\n",
      "Increase the number of iterations (max_iter) or scale the data as shown in:\n",
      "    https://scikit-learn.org/stable/modules/preprocessing.html\n",
      "Please also refer to the documentation for alternative solver options:\n",
      "    https://scikit-learn.org/stable/modules/linear_model.html#logistic-regression\n",
      "  extra_warning_msg=_LOGISTIC_SOLVER_CONVERGENCE_MSG)\n"
     ]
    }
   ],
   "metadata": {}
  },
  {
   "cell_type": "code",
   "execution_count": 25,
   "source": [
    "df_f1_weighted = pd.DataFrame(scores_weighted.T, columns=tf_func, index=weight_methods)\n",
    "df_f1_weighted.style.highlight_max(color = 'green', axis = 0) "
   ],
   "outputs": [
    {
     "output_type": "execute_result",
     "data": {
      "text/plain": [
       "<pandas.io.formats.style.Styler at 0x14f2ecba8>"
      ],
      "text/html": [
       "<style  type=\"text/css\" >\n",
       "#T_0b795a3e_7dd1_11ec_8d3f_acde48001122row8_col0,#T_0b795a3e_7dd1_11ec_8d3f_acde48001122row8_col1,#T_0b795a3e_7dd1_11ec_8d3f_acde48001122row8_col2{\n",
       "            background-color:  green;\n",
       "        }</style><table id=\"T_0b795a3e_7dd1_11ec_8d3f_acde48001122\" ><thead>    <tr>        <th class=\"blank level0\" ></th>        <th class=\"col_heading level0 col0\" >tf</th>        <th class=\"col_heading level0 col1\" >log_tf</th>        <th class=\"col_heading level0 col2\" >sqrt_tf</th>    </tr></thead><tbody>\n",
       "                <tr>\n",
       "                        <th id=\"T_0b795a3e_7dd1_11ec_8d3f_acde48001122level0_row0\" class=\"row_heading level0 row0\" >idf</th>\n",
       "                        <td id=\"T_0b795a3e_7dd1_11ec_8d3f_acde48001122row0_col0\" class=\"data row0 col0\" >0.723289</td>\n",
       "                        <td id=\"T_0b795a3e_7dd1_11ec_8d3f_acde48001122row0_col1\" class=\"data row0 col1\" >0.739036</td>\n",
       "                        <td id=\"T_0b795a3e_7dd1_11ec_8d3f_acde48001122row0_col2\" class=\"data row0 col2\" >0.740892</td>\n",
       "            </tr>\n",
       "            <tr>\n",
       "                        <th id=\"T_0b795a3e_7dd1_11ec_8d3f_acde48001122level0_row1\" class=\"row_heading level0 row1\" >dfs</th>\n",
       "                        <td id=\"T_0b795a3e_7dd1_11ec_8d3f_acde48001122row1_col0\" class=\"data row1 col0\" >0.663262</td>\n",
       "                        <td id=\"T_0b795a3e_7dd1_11ec_8d3f_acde48001122row1_col1\" class=\"data row1 col1\" >0.703752</td>\n",
       "                        <td id=\"T_0b795a3e_7dd1_11ec_8d3f_acde48001122row1_col2\" class=\"data row1 col2\" >0.705814</td>\n",
       "            </tr>\n",
       "            <tr>\n",
       "                        <th id=\"T_0b795a3e_7dd1_11ec_8d3f_acde48001122level0_row2\" class=\"row_heading level0 row2\" >chi2</th>\n",
       "                        <td id=\"T_0b795a3e_7dd1_11ec_8d3f_acde48001122row2_col0\" class=\"data row2 col0\" >0.628951</td>\n",
       "                        <td id=\"T_0b795a3e_7dd1_11ec_8d3f_acde48001122row2_col1\" class=\"data row2 col1\" >0.626063</td>\n",
       "                        <td id=\"T_0b795a3e_7dd1_11ec_8d3f_acde48001122row2_col2\" class=\"data row2 col2\" >0.624507</td>\n",
       "            </tr>\n",
       "            <tr>\n",
       "                        <th id=\"T_0b795a3e_7dd1_11ec_8d3f_acde48001122level0_row3\" class=\"row_heading level0 row3\" >ig</th>\n",
       "                        <td id=\"T_0b795a3e_7dd1_11ec_8d3f_acde48001122row3_col0\" class=\"data row3 col0\" >0.615559</td>\n",
       "                        <td id=\"T_0b795a3e_7dd1_11ec_8d3f_acde48001122row3_col1\" class=\"data row3 col1\" >0.647569</td>\n",
       "                        <td id=\"T_0b795a3e_7dd1_11ec_8d3f_acde48001122row3_col2\" class=\"data row3 col2\" >0.653259</td>\n",
       "            </tr>\n",
       "            <tr>\n",
       "                        <th id=\"T_0b795a3e_7dd1_11ec_8d3f_acde48001122level0_row4\" class=\"row_heading level0 row4\" >igm</th>\n",
       "                        <td id=\"T_0b795a3e_7dd1_11ec_8d3f_acde48001122row4_col0\" class=\"data row4 col0\" >0.614658</td>\n",
       "                        <td id=\"T_0b795a3e_7dd1_11ec_8d3f_acde48001122row4_col1\" class=\"data row4 col1\" >0.644843</td>\n",
       "                        <td id=\"T_0b795a3e_7dd1_11ec_8d3f_acde48001122row4_col2\" class=\"data row4 col2\" >0.651179</td>\n",
       "            </tr>\n",
       "            <tr>\n",
       "                        <th id=\"T_0b795a3e_7dd1_11ec_8d3f_acde48001122level0_row5\" class=\"row_heading level0 row5\" >pb</th>\n",
       "                        <td id=\"T_0b795a3e_7dd1_11ec_8d3f_acde48001122row5_col0\" class=\"data row5 col0\" >0.527712</td>\n",
       "                        <td id=\"T_0b795a3e_7dd1_11ec_8d3f_acde48001122row5_col1\" class=\"data row5 col1\" >0.558761</td>\n",
       "                        <td id=\"T_0b795a3e_7dd1_11ec_8d3f_acde48001122row5_col2\" class=\"data row5 col2\" >0.565635</td>\n",
       "            </tr>\n",
       "            <tr>\n",
       "                        <th id=\"T_0b795a3e_7dd1_11ec_8d3f_acde48001122level0_row6\" class=\"row_heading level0 row6\" >idf_icf</th>\n",
       "                        <td id=\"T_0b795a3e_7dd1_11ec_8d3f_acde48001122row6_col0\" class=\"data row6 col0\" >0.723289</td>\n",
       "                        <td id=\"T_0b795a3e_7dd1_11ec_8d3f_acde48001122row6_col1\" class=\"data row6 col1\" >0.739036</td>\n",
       "                        <td id=\"T_0b795a3e_7dd1_11ec_8d3f_acde48001122row6_col2\" class=\"data row6 col2\" >0.740892</td>\n",
       "            </tr>\n",
       "            <tr>\n",
       "                        <th id=\"T_0b795a3e_7dd1_11ec_8d3f_acde48001122level0_row7\" class=\"row_heading level0 row7\" >rf</th>\n",
       "                        <td id=\"T_0b795a3e_7dd1_11ec_8d3f_acde48001122row7_col0\" class=\"data row7 col0\" >0.686668</td>\n",
       "                        <td id=\"T_0b795a3e_7dd1_11ec_8d3f_acde48001122row7_col1\" class=\"data row7 col1\" >0.704079</td>\n",
       "                        <td id=\"T_0b795a3e_7dd1_11ec_8d3f_acde48001122row7_col2\" class=\"data row7 col2\" >0.706752</td>\n",
       "            </tr>\n",
       "            <tr>\n",
       "                        <th id=\"T_0b795a3e_7dd1_11ec_8d3f_acde48001122level0_row8\" class=\"row_heading level0 row8\" >idf_icsdf</th>\n",
       "                        <td id=\"T_0b795a3e_7dd1_11ec_8d3f_acde48001122row8_col0\" class=\"data row8 col0\" >0.750796</td>\n",
       "                        <td id=\"T_0b795a3e_7dd1_11ec_8d3f_acde48001122row8_col1\" class=\"data row8 col1\" >0.757944</td>\n",
       "                        <td id=\"T_0b795a3e_7dd1_11ec_8d3f_acde48001122row8_col2\" class=\"data row8 col2\" >0.757782</td>\n",
       "            </tr>\n",
       "            <tr>\n",
       "                        <th id=\"T_0b795a3e_7dd1_11ec_8d3f_acde48001122level0_row9\" class=\"row_heading level0 row9\" >iadf</th>\n",
       "                        <td id=\"T_0b795a3e_7dd1_11ec_8d3f_acde48001122row9_col0\" class=\"data row9 col0\" >0.691556</td>\n",
       "                        <td id=\"T_0b795a3e_7dd1_11ec_8d3f_acde48001122row9_col1\" class=\"data row9 col1\" >0.706516</td>\n",
       "                        <td id=\"T_0b795a3e_7dd1_11ec_8d3f_acde48001122row9_col2\" class=\"data row9 col2\" >0.705915</td>\n",
       "            </tr>\n",
       "            <tr>\n",
       "                        <th id=\"T_0b795a3e_7dd1_11ec_8d3f_acde48001122level0_row10\" class=\"row_heading level0 row10\" >iadf_norm</th>\n",
       "                        <td id=\"T_0b795a3e_7dd1_11ec_8d3f_acde48001122row10_col0\" class=\"data row10 col0\" >0.603138</td>\n",
       "                        <td id=\"T_0b795a3e_7dd1_11ec_8d3f_acde48001122row10_col1\" class=\"data row10 col1\" >0.637468</td>\n",
       "                        <td id=\"T_0b795a3e_7dd1_11ec_8d3f_acde48001122row10_col2\" class=\"data row10 col2\" >0.643298</td>\n",
       "            </tr>\n",
       "    </tbody></table>"
      ]
     },
     "metadata": {},
     "execution_count": 25
    }
   ],
   "metadata": {}
  },
  {
   "cell_type": "code",
   "execution_count": 26,
   "source": [
    "df_f1_micro = pd.DataFrame(scores_micro.T, columns=tf_func, index=weight_methods)\n",
    "df_f1_micro.style.highlight_max(color = 'green', axis = 0) "
   ],
   "outputs": [
    {
     "output_type": "execute_result",
     "data": {
      "text/plain": [
       "<pandas.io.formats.style.Styler at 0x14f337c18>"
      ],
      "text/html": [
       "<style  type=\"text/css\" >\n",
       "#T_0b8fa29e_7dd1_11ec_a56d_acde48001122row8_col0,#T_0b8fa29e_7dd1_11ec_a56d_acde48001122row8_col1,#T_0b8fa29e_7dd1_11ec_a56d_acde48001122row8_col2{\n",
       "            background-color:  green;\n",
       "        }</style><table id=\"T_0b8fa29e_7dd1_11ec_a56d_acde48001122\" ><thead>    <tr>        <th class=\"blank level0\" ></th>        <th class=\"col_heading level0 col0\" >tf</th>        <th class=\"col_heading level0 col1\" >log_tf</th>        <th class=\"col_heading level0 col2\" >sqrt_tf</th>    </tr></thead><tbody>\n",
       "                <tr>\n",
       "                        <th id=\"T_0b8fa29e_7dd1_11ec_a56d_acde48001122level0_row0\" class=\"row_heading level0 row0\" >idf</th>\n",
       "                        <td id=\"T_0b8fa29e_7dd1_11ec_a56d_acde48001122row0_col0\" class=\"data row0 col0\" >0.719841</td>\n",
       "                        <td id=\"T_0b8fa29e_7dd1_11ec_a56d_acde48001122row0_col1\" class=\"data row0 col1\" >0.735749</td>\n",
       "                        <td id=\"T_0b8fa29e_7dd1_11ec_a56d_acde48001122row0_col2\" class=\"data row0 col2\" >0.737517</td>\n",
       "            </tr>\n",
       "            <tr>\n",
       "                        <th id=\"T_0b8fa29e_7dd1_11ec_a56d_acde48001122level0_row1\" class=\"row_heading level0 row1\" >dfs</th>\n",
       "                        <td id=\"T_0b8fa29e_7dd1_11ec_a56d_acde48001122row1_col0\" class=\"data row1 col0\" >0.659744</td>\n",
       "                        <td id=\"T_0b8fa29e_7dd1_11ec_a56d_acde48001122row1_col1\" class=\"data row1 col1\" >0.700398</td>\n",
       "                        <td id=\"T_0b8fa29e_7dd1_11ec_a56d_acde48001122row1_col2\" class=\"data row1 col2\" >0.702607</td>\n",
       "            </tr>\n",
       "            <tr>\n",
       "                        <th id=\"T_0b8fa29e_7dd1_11ec_a56d_acde48001122level0_row2\" class=\"row_heading level0 row2\" >chi2</th>\n",
       "                        <td id=\"T_0b8fa29e_7dd1_11ec_a56d_acde48001122row2_col0\" class=\"data row2 col0\" >0.623067</td>\n",
       "                        <td id=\"T_0b8fa29e_7dd1_11ec_a56d_acde48001122row2_col1\" class=\"data row2 col1\" >0.621299</td>\n",
       "                        <td id=\"T_0b8fa29e_7dd1_11ec_a56d_acde48001122row2_col2\" class=\"data row2 col2\" >0.619532</td>\n",
       "            </tr>\n",
       "            <tr>\n",
       "                        <th id=\"T_0b8fa29e_7dd1_11ec_a56d_acde48001122level0_row3\" class=\"row_heading level0 row3\" >ig</th>\n",
       "                        <td id=\"T_0b8fa29e_7dd1_11ec_a56d_acde48001122row3_col0\" class=\"data row3 col0\" >0.613787</td>\n",
       "                        <td id=\"T_0b8fa29e_7dd1_11ec_a56d_acde48001122row3_col1\" class=\"data row3 col1\" >0.645603</td>\n",
       "                        <td id=\"T_0b8fa29e_7dd1_11ec_a56d_acde48001122row3_col2\" class=\"data row3 col2\" >0.650906</td>\n",
       "            </tr>\n",
       "            <tr>\n",
       "                        <th id=\"T_0b8fa29e_7dd1_11ec_a56d_acde48001122level0_row4\" class=\"row_heading level0 row4\" >igm</th>\n",
       "                        <td id=\"T_0b8fa29e_7dd1_11ec_a56d_acde48001122row4_col0\" class=\"data row4 col0\" >0.612903</td>\n",
       "                        <td id=\"T_0b8fa29e_7dd1_11ec_a56d_acde48001122row4_col1\" class=\"data row4 col1\" >0.642952</td>\n",
       "                        <td id=\"T_0b8fa29e_7dd1_11ec_a56d_acde48001122row4_col2\" class=\"data row4 col2\" >0.649138</td>\n",
       "            </tr>\n",
       "            <tr>\n",
       "                        <th id=\"T_0b8fa29e_7dd1_11ec_a56d_acde48001122level0_row5\" class=\"row_heading level0 row5\" >pb</th>\n",
       "                        <td id=\"T_0b8fa29e_7dd1_11ec_a56d_acde48001122row5_col0\" class=\"data row5 col0\" >0.517013</td>\n",
       "                        <td id=\"T_0b8fa29e_7dd1_11ec_a56d_acde48001122row5_col1\" class=\"data row5 col1\" >0.547503</td>\n",
       "                        <td id=\"T_0b8fa29e_7dd1_11ec_a56d_acde48001122row5_col2\" class=\"data row5 col2\" >0.553690</td>\n",
       "            </tr>\n",
       "            <tr>\n",
       "                        <th id=\"T_0b8fa29e_7dd1_11ec_a56d_acde48001122level0_row6\" class=\"row_heading level0 row6\" >idf_icf</th>\n",
       "                        <td id=\"T_0b8fa29e_7dd1_11ec_a56d_acde48001122row6_col0\" class=\"data row6 col0\" >0.719841</td>\n",
       "                        <td id=\"T_0b8fa29e_7dd1_11ec_a56d_acde48001122row6_col1\" class=\"data row6 col1\" >0.735749</td>\n",
       "                        <td id=\"T_0b8fa29e_7dd1_11ec_a56d_acde48001122row6_col2\" class=\"data row6 col2\" >0.737517</td>\n",
       "            </tr>\n",
       "            <tr>\n",
       "                        <th id=\"T_0b8fa29e_7dd1_11ec_a56d_acde48001122level0_row7\" class=\"row_heading level0 row7\" >rf</th>\n",
       "                        <td id=\"T_0b8fa29e_7dd1_11ec_a56d_acde48001122row7_col0\" class=\"data row7 col0\" >0.681838</td>\n",
       "                        <td id=\"T_0b8fa29e_7dd1_11ec_a56d_acde48001122row7_col1\" class=\"data row7 col1\" >0.698188</td>\n",
       "                        <td id=\"T_0b8fa29e_7dd1_11ec_a56d_acde48001122row7_col2\" class=\"data row7 col2\" >0.700840</td>\n",
       "            </tr>\n",
       "            <tr>\n",
       "                        <th id=\"T_0b8fa29e_7dd1_11ec_a56d_acde48001122level0_row8\" class=\"row_heading level0 row8\" >idf_icsdf</th>\n",
       "                        <td id=\"T_0b8fa29e_7dd1_11ec_a56d_acde48001122row8_col0\" class=\"data row8 col0\" >0.748122</td>\n",
       "                        <td id=\"T_0b8fa29e_7dd1_11ec_a56d_acde48001122row8_col1\" class=\"data row8 col1\" >0.755634</td>\n",
       "                        <td id=\"T_0b8fa29e_7dd1_11ec_a56d_acde48001122row8_col2\" class=\"data row8 col2\" >0.755634</td>\n",
       "            </tr>\n",
       "            <tr>\n",
       "                        <th id=\"T_0b8fa29e_7dd1_11ec_a56d_acde48001122level0_row9\" class=\"row_heading level0 row9\" >iadf</th>\n",
       "                        <td id=\"T_0b8fa29e_7dd1_11ec_a56d_acde48001122row9_col0\" class=\"data row9 col0\" >0.688909</td>\n",
       "                        <td id=\"T_0b8fa29e_7dd1_11ec_a56d_acde48001122row9_col1\" class=\"data row9 col1\" >0.703491</td>\n",
       "                        <td id=\"T_0b8fa29e_7dd1_11ec_a56d_acde48001122row9_col2\" class=\"data row9 col2\" >0.703049</td>\n",
       "            </tr>\n",
       "            <tr>\n",
       "                        <th id=\"T_0b8fa29e_7dd1_11ec_a56d_acde48001122level0_row10\" class=\"row_heading level0 row10\" >iadf_norm</th>\n",
       "                        <td id=\"T_0b8fa29e_7dd1_11ec_a56d_acde48001122row10_col0\" class=\"data row10 col0\" >0.601414</td>\n",
       "                        <td id=\"T_0b8fa29e_7dd1_11ec_a56d_acde48001122row10_col1\" class=\"data row10 col1\" >0.635882</td>\n",
       "                        <td id=\"T_0b8fa29e_7dd1_11ec_a56d_acde48001122row10_col2\" class=\"data row10 col2\" >0.641184</td>\n",
       "            </tr>\n",
       "    </tbody></table>"
      ]
     },
     "metadata": {},
     "execution_count": 26
    }
   ],
   "metadata": {}
  },
  {
   "cell_type": "code",
   "execution_count": 27,
   "source": [
    "df_f1_macro = pd.DataFrame(scores_macro.T, columns=tf_func, index=weight_methods)\n",
    "df_f1_macro.style.highlight_max(color = 'green', axis = 0) "
   ],
   "outputs": [
    {
     "output_type": "execute_result",
     "data": {
      "text/plain": [
       "<pandas.io.formats.style.Styler at 0x14fd39780>"
      ],
      "text/html": [
       "<style  type=\"text/css\" >\n",
       "#T_0b9e3d36_7dd1_11ec_a6f9_acde48001122row8_col0,#T_0b9e3d36_7dd1_11ec_a6f9_acde48001122row8_col1,#T_0b9e3d36_7dd1_11ec_a6f9_acde48001122row8_col2{\n",
       "            background-color:  green;\n",
       "        }</style><table id=\"T_0b9e3d36_7dd1_11ec_a6f9_acde48001122\" ><thead>    <tr>        <th class=\"blank level0\" ></th>        <th class=\"col_heading level0 col0\" >tf</th>        <th class=\"col_heading level0 col1\" >log_tf</th>        <th class=\"col_heading level0 col2\" >sqrt_tf</th>    </tr></thead><tbody>\n",
       "                <tr>\n",
       "                        <th id=\"T_0b9e3d36_7dd1_11ec_a6f9_acde48001122level0_row0\" class=\"row_heading level0 row0\" >idf</th>\n",
       "                        <td id=\"T_0b9e3d36_7dd1_11ec_a6f9_acde48001122row0_col0\" class=\"data row0 col0\" >0.714917</td>\n",
       "                        <td id=\"T_0b9e3d36_7dd1_11ec_a6f9_acde48001122row0_col1\" class=\"data row0 col1\" >0.731014</td>\n",
       "                        <td id=\"T_0b9e3d36_7dd1_11ec_a6f9_acde48001122row0_col2\" class=\"data row0 col2\" >0.732653</td>\n",
       "            </tr>\n",
       "            <tr>\n",
       "                        <th id=\"T_0b9e3d36_7dd1_11ec_a6f9_acde48001122level0_row1\" class=\"row_heading level0 row1\" >dfs</th>\n",
       "                        <td id=\"T_0b9e3d36_7dd1_11ec_a6f9_acde48001122row1_col0\" class=\"data row1 col0\" >0.654159</td>\n",
       "                        <td id=\"T_0b9e3d36_7dd1_11ec_a6f9_acde48001122row1_col1\" class=\"data row1 col1\" >0.695172</td>\n",
       "                        <td id=\"T_0b9e3d36_7dd1_11ec_a6f9_acde48001122row1_col2\" class=\"data row1 col2\" >0.697400</td>\n",
       "            </tr>\n",
       "            <tr>\n",
       "                        <th id=\"T_0b9e3d36_7dd1_11ec_a6f9_acde48001122level0_row2\" class=\"row_heading level0 row2\" >chi2</th>\n",
       "                        <td id=\"T_0b9e3d36_7dd1_11ec_a6f9_acde48001122row2_col0\" class=\"data row2 col0\" >0.619293</td>\n",
       "                        <td id=\"T_0b9e3d36_7dd1_11ec_a6f9_acde48001122row2_col1\" class=\"data row2 col1\" >0.615659</td>\n",
       "                        <td id=\"T_0b9e3d36_7dd1_11ec_a6f9_acde48001122row2_col2\" class=\"data row2 col2\" >0.614156</td>\n",
       "            </tr>\n",
       "            <tr>\n",
       "                        <th id=\"T_0b9e3d36_7dd1_11ec_a6f9_acde48001122level0_row3\" class=\"row_heading level0 row3\" >ig</th>\n",
       "                        <td id=\"T_0b9e3d36_7dd1_11ec_a6f9_acde48001122row3_col0\" class=\"data row3 col0\" >0.606449</td>\n",
       "                        <td id=\"T_0b9e3d36_7dd1_11ec_a6f9_acde48001122row3_col1\" class=\"data row3 col1\" >0.638752</td>\n",
       "                        <td id=\"T_0b9e3d36_7dd1_11ec_a6f9_acde48001122row3_col2\" class=\"data row3 col2\" >0.644440</td>\n",
       "            </tr>\n",
       "            <tr>\n",
       "                        <th id=\"T_0b9e3d36_7dd1_11ec_a6f9_acde48001122level0_row4\" class=\"row_heading level0 row4\" >igm</th>\n",
       "                        <td id=\"T_0b9e3d36_7dd1_11ec_a6f9_acde48001122row4_col0\" class=\"data row4 col0\" >0.605524</td>\n",
       "                        <td id=\"T_0b9e3d36_7dd1_11ec_a6f9_acde48001122row4_col1\" class=\"data row4 col1\" >0.636077</td>\n",
       "                        <td id=\"T_0b9e3d36_7dd1_11ec_a6f9_acde48001122row4_col2\" class=\"data row4 col2\" >0.642357</td>\n",
       "            </tr>\n",
       "            <tr>\n",
       "                        <th id=\"T_0b9e3d36_7dd1_11ec_a6f9_acde48001122level0_row5\" class=\"row_heading level0 row5\" >pb</th>\n",
       "                        <td id=\"T_0b9e3d36_7dd1_11ec_a6f9_acde48001122row5_col0\" class=\"data row5 col0\" >0.514004</td>\n",
       "                        <td id=\"T_0b9e3d36_7dd1_11ec_a6f9_acde48001122row5_col1\" class=\"data row5 col1\" >0.545823</td>\n",
       "                        <td id=\"T_0b9e3d36_7dd1_11ec_a6f9_acde48001122row5_col2\" class=\"data row5 col2\" >0.552523</td>\n",
       "            </tr>\n",
       "            <tr>\n",
       "                        <th id=\"T_0b9e3d36_7dd1_11ec_a6f9_acde48001122level0_row6\" class=\"row_heading level0 row6\" >idf_icf</th>\n",
       "                        <td id=\"T_0b9e3d36_7dd1_11ec_a6f9_acde48001122row6_col0\" class=\"data row6 col0\" >0.714917</td>\n",
       "                        <td id=\"T_0b9e3d36_7dd1_11ec_a6f9_acde48001122row6_col1\" class=\"data row6 col1\" >0.731014</td>\n",
       "                        <td id=\"T_0b9e3d36_7dd1_11ec_a6f9_acde48001122row6_col2\" class=\"data row6 col2\" >0.732653</td>\n",
       "            </tr>\n",
       "            <tr>\n",
       "                        <th id=\"T_0b9e3d36_7dd1_11ec_a6f9_acde48001122level0_row7\" class=\"row_heading level0 row7\" >rf</th>\n",
       "                        <td id=\"T_0b9e3d36_7dd1_11ec_a6f9_acde48001122row7_col0\" class=\"data row7 col0\" >0.677023</td>\n",
       "                        <td id=\"T_0b9e3d36_7dd1_11ec_a6f9_acde48001122row7_col1\" class=\"data row7 col1\" >0.694787</td>\n",
       "                        <td id=\"T_0b9e3d36_7dd1_11ec_a6f9_acde48001122row7_col2\" class=\"data row7 col2\" >0.697747</td>\n",
       "            </tr>\n",
       "            <tr>\n",
       "                        <th id=\"T_0b9e3d36_7dd1_11ec_a6f9_acde48001122level0_row8\" class=\"row_heading level0 row8\" >idf_icsdf</th>\n",
       "                        <td id=\"T_0b9e3d36_7dd1_11ec_a6f9_acde48001122row8_col0\" class=\"data row8 col0\" >0.743311</td>\n",
       "                        <td id=\"T_0b9e3d36_7dd1_11ec_a6f9_acde48001122row8_col1\" class=\"data row8 col1\" >0.749982</td>\n",
       "                        <td id=\"T_0b9e3d36_7dd1_11ec_a6f9_acde48001122row8_col2\" class=\"data row8 col2\" >0.749363</td>\n",
       "            </tr>\n",
       "            <tr>\n",
       "                        <th id=\"T_0b9e3d36_7dd1_11ec_a6f9_acde48001122level0_row9\" class=\"row_heading level0 row9\" >iadf</th>\n",
       "                        <td id=\"T_0b9e3d36_7dd1_11ec_a6f9_acde48001122row9_col0\" class=\"data row9 col0\" >0.682206</td>\n",
       "                        <td id=\"T_0b9e3d36_7dd1_11ec_a6f9_acde48001122row9_col1\" class=\"data row9 col1\" >0.697801</td>\n",
       "                        <td id=\"T_0b9e3d36_7dd1_11ec_a6f9_acde48001122row9_col2\" class=\"data row9 col2\" >0.696885</td>\n",
       "            </tr>\n",
       "            <tr>\n",
       "                        <th id=\"T_0b9e3d36_7dd1_11ec_a6f9_acde48001122level0_row10\" class=\"row_heading level0 row10\" >iadf_norm</th>\n",
       "                        <td id=\"T_0b9e3d36_7dd1_11ec_a6f9_acde48001122row10_col0\" class=\"data row10 col0\" >0.594149</td>\n",
       "                        <td id=\"T_0b9e3d36_7dd1_11ec_a6f9_acde48001122row10_col1\" class=\"data row10 col1\" >0.628764</td>\n",
       "                        <td id=\"T_0b9e3d36_7dd1_11ec_a6f9_acde48001122row10_col2\" class=\"data row10 col2\" >0.634379</td>\n",
       "            </tr>\n",
       "    </tbody></table>"
      ]
     },
     "metadata": {},
     "execution_count": 27
    }
   ],
   "metadata": {}
  },
  {
   "cell_type": "code",
   "execution_count": null,
   "source": [],
   "outputs": [],
   "metadata": {}
  }
 ],
 "metadata": {
  "orig_nbformat": 4,
  "language_info": {
   "name": "python",
   "version": "3.6.14",
   "mimetype": "text/x-python",
   "codemirror_mode": {
    "name": "ipython",
    "version": 3
   },
   "pygments_lexer": "ipython3",
   "nbconvert_exporter": "python",
   "file_extension": ".py"
  },
  "kernelspec": {
   "name": "python3",
   "display_name": "Python 3.6.14 64-bit ('venv': venv)"
  },
  "interpreter": {
   "hash": "f336a8cd5a355db9b4814550c46e755833ea4504e8c7844e66d32639c3460fdf"
  }
 },
 "nbformat": 4,
 "nbformat_minor": 2
}